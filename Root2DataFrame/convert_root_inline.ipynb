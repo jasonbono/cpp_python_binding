{
 "cells": [
  {
   "cell_type": "markdown",
   "metadata": {},
   "source": [
    "__This notebook can be used to convert the root files used by the g-2 field team into dataframes__\n",
    "\n",
    "The libaries loaded below are needed:"
   ]
  },
  {
   "cell_type": "code",
   "execution_count": 1,
   "metadata": {},
   "outputs": [
    {
     "name": "stdout",
     "output_type": "stream",
     "text": [
      "Welcome to JupyROOT 6.16/00\n"
     ]
    }
   ],
   "source": [
    "import numpy as np\n",
    "import ROOT\n",
    "import pickle\n",
    "import pandas as pd"
   ]
  },
  {
   "cell_type": "markdown",
   "metadata": {},
   "source": [
    "# 1) Inline C++ functions"
   ]
  },
  {
   "cell_type": "markdown",
   "metadata": {},
   "source": [
    "## Trolley functions\n",
    "\n",
    "### Function to get number of entries"
   ]
  },
  {
   "cell_type": "code",
   "execution_count": 2,
   "metadata": {},
   "outputs": [],
   "source": [
    "%%cpp -d\n",
    "#include \"../RootTreeStructs.h\"\n",
    "using namespace std;\n",
    "int Entries(){\n",
    "    int run = 3956;\n",
    "//#    int probe = 0;\n",
    "    TFile* filein = new TFile(Form(\"~/Desktop/FieldPlainRootOutput_0%d_tier1.root\",run),\"read\");\n",
    "    TDirectory * dTrolley = (TDirectory*)filein->Get(\"TreeGenTrolley\");\n",
    "    TTree* trolley = (TTree*)dTrolley->Get(\"trolley\");\n",
    "    int N = trolley->GetEntries();\n",
    "    filein->Close();\n",
    "    return N;\n",
    "}"
   ]
  },
  {
   "cell_type": "markdown",
   "metadata": {},
   "source": [
    "### Function to get basic trolley info"
   ]
  },
  {
   "cell_type": "code",
   "execution_count": 3,
   "metadata": {},
   "outputs": [],
   "source": [
    "%%cpp -d\n",
    "#include \"../RootTreeStructs.h\"\n",
    "using namespace std;\n",
    "void TrolleyInfo(double* f, double* p, double* fid_len, int run, int probe){\n",
    "//  int run = 3956;\n",
    "//  int probe = 0;\n",
    "    TFile* filein = new TFile(Form(\"~/Desktop/FieldPlainRootOutput_0%d_tier1.root\",run),\"read\");\n",
    "    TDirectory * dTrolley = (TDirectory*)filein->Get(\"TreeGenTrolley\");\n",
    "    TTree* trolley = (TTree*)dTrolley->Get(\"trolley\");\n",
    "    gm2field::trolleyTimeStamp_t trolleyTimeStamp;\n",
    "    gm2field::trolleyProbeFrequency_t trolleyProbeFrequency;\n",
    "    gm2field::trolleyFieldMultipole_t trolleyFieldMultipole;\n",
    "    gm2field::trolleyPosition_t trolleyPosition;\n",
    "    trolley->SetBranchAddress(\"TimeStamp\",&trolleyTimeStamp.GpsCycleStart);\n",
    "    trolley->SetBranchAddress(\"ProbeFrequency\",&trolleyProbeFrequency.Frequency);\n",
    "    trolley->SetBranchAddress(\"FieldMultipole\",&trolleyFieldMultipole.Multipole);\n",
    "    trolley->SetBranchAddress(\"Position\",&trolleyPosition.Phi);\n",
    "    \n",
    "    //#for FID length\n",
    "    gm2field::trolleyProbeSignal_t trolleyProbeSignal;\n",
    "    //#need to set the first one in the struct, which happens to be amplitude\n",
    "    trolley->SetBranchAddress(\"ProbeSignal\",&trolleyProbeSignal.Amplitude);\n",
    "    \n",
    "///////////////////////////////////////////////////////////////////////////////////\n",
    "    int nAllReadings = trolley->GetEntries();\n",
    "    for(int i=0;i<nAllReadings;i++){ //loop through trolley events\n",
    "        trolley->GetEntry(i);\n",
    "        f[i] = trolleyProbeFrequency.Frequency[probe][0]; \n",
    "        p[i] = trolleyPosition.Phi[probe][2];\n",
    "        fid_len[i] = trolleyProbeSignal.FidLength[probe];\n",
    "    }\n",
    "    filein->Close();\n",
    "    return;\n",
    "}"
   ]
  },
  {
   "cell_type": "markdown",
   "metadata": {},
   "source": [
    "### Seperate function to get trolley FIDs\n",
    "\n",
    "FID signals are heavy, so a seperate function is made, enabeling the user to select only the desired signals"
   ]
  },
  {
   "cell_type": "code",
   "execution_count": 4,
   "metadata": {},
   "outputs": [],
   "source": [
    "%%cpp -d\n",
    "#include \"../RootTreeStructs.h\"\n",
    "using namespace std;\n",
    "void RawFid(double* raw_fid,  int run, int reading, int probe){\n",
    "//  int run = 3956;\n",
    "//  int probe = 0;\n",
    "    TFile* filein = new TFile(Form(\"~/Desktop/FieldPlainRootOutput_0%d_tier1.root\",run),\"read\");\n",
    "    TDirectory * dMyTrolley = (TDirectory*)filein->Get(\"TrolleyWfExtraction\");\n",
    "    TTree* myTrolley = (TTree*)dMyTrolley->Get(\"trolleyWf\");\n",
    "    gm2field::trolleyFid_t trolleyFid;\n",
    "    myTrolley->SetBranchAddress(\"trolleyFid\", &trolleyFid.RawFid);\n",
    "///////////////////////////////////////////////////////////////////////////////////\n",
    "    int fidLength = 16000;\n",
    "    int dataStartingPoint = probe*fidLength;    \n",
    "    myTrolley->GetEntry(reading);                                \n",
    "    for (int i=0; i<fidLength; i++) {\n",
    "        raw_fid[i] = trolleyFid.RawFid[i];\n",
    "    }\n",
    "    filein->Close();\n",
    "    return;\n",
    "}"
   ]
  },
  {
   "cell_type": "code",
   "execution_count": null,
   "metadata": {},
   "outputs": [],
   "source": []
  },
  {
   "cell_type": "code",
   "execution_count": null,
   "metadata": {},
   "outputs": [],
   "source": []
  },
  {
   "cell_type": "code",
   "execution_count": null,
   "metadata": {},
   "outputs": [],
   "source": []
  },
  {
   "cell_type": "code",
   "execution_count": null,
   "metadata": {},
   "outputs": [],
   "source": []
  },
  {
   "cell_type": "code",
   "execution_count": 5,
   "metadata": {},
   "outputs": [],
   "source": [
    "# Loop over all trolley probes for a given run list. \n",
    "\n"
   ]
  },
  {
   "cell_type": "markdown",
   "metadata": {},
   "source": [
    "# 2)  Calling the functions and pickeling the data \n",
    "\n",
    "## Converting basic trolley data\n",
    "\n",
    "* all info for each probe gets stored as a df.\n",
    "* each probe df gets stored into a dict\n",
    "* each dict is stored as file named by its run\n"
   ]
  },
  {
   "cell_type": "code",
   "execution_count": 6,
   "metadata": {},
   "outputs": [
    {
     "name": "stdout",
     "output_type": "stream",
     "text": [
      "starting run 3956\n",
      "starting probe 0\n",
      "starting probe 1\n",
      "starting probe 2\n"
     ]
    }
   ],
   "source": [
    "#set up for the loop\n",
    "n_entries = ROOT.Entries()\n",
    "probe_list = [p for p in range(3)]\n",
    "run_list = [3956]\n",
    "all_data_frames = {}\n",
    "\n",
    "for run in run_list:\n",
    "    print(\"starting run\",run)\n",
    "    for probe in probe_list:\n",
    "        print(\"starting probe\",probe)\n",
    "        freq = np.empty(n_entries)\n",
    "        pos = np.empty(n_entries)\n",
    "        fid_len = np.empty(n_entries)\n",
    "        ROOT.TrolleyInfo(freq,pos,fid_len,run,probe)\n",
    "        df = pd.DataFrame({'Frequency':freq, \n",
    "                           'Position':pos, \n",
    "                           'Fid_len': fid_len})\n",
    "        all_data_frames[probe] = df\n",
    "        \n",
    "    with open(\"./output/tr_basic_\" + str(run) + \".pkl\", \"wb\") as f:\n",
    "        pickle.dump(all_data_frames, f)"
   ]
  },
  {
   "cell_type": "markdown",
   "metadata": {},
   "source": [
    "## Converting trolley FIDs\n",
    "\n",
    "* The user selects specific FIDs \n",
    "    - Selection should be based on the user's analysis of the basic trolley data\n",
    "* The specified fid info is then added to the above-created pkl file\n",
    "\n"
   ]
  },
  {
   "cell_type": "code",
   "execution_count": 7,
   "metadata": {},
   "outputs": [],
   "source": [
    "#Choose the data you want by modifying below and reading in\n",
    "event_list = [4,7,22,30] #user choice\n",
    "probe = 0 #user choice\n",
    "run = 3956 #user choice\n",
    "file = \"output/tr_basic_\"+str(run)+\".pkl\""
   ]
  },
  {
   "cell_type": "code",
   "execution_count": null,
   "metadata": {},
   "outputs": [],
   "source": [
    "#open the file to get a dict of dataframes\n",
    "with open(file, \"rb\") as f:\n",
    "    trolley = pickle.load(f)\n",
    "#for the chosen probe's dataframe, add a raw FID column\n",
    "#need pre-formateding because an NP array will be written to each cell\n",
    "trolley[probe]['RawFid'] = \"\"\n",
    "trolley[probe]['RawFid'].astype(object,copy=False)\n",
    "\n",
    "#write each chosen event's FID to the chosen probe's dataframe\n",
    "for event in event_list:\n",
    "    raw_fid = np.empty(16000)\n",
    "    ROOT.RawFid(raw_fid,run,event,probe)\n",
    "    trolley[probe].at[event, 'RawFid'] = raw_fid "
   ]
  },
  {
   "cell_type": "code",
   "execution_count": null,
   "metadata": {},
   "outputs": [],
   "source": [
    "#write over the existing file\n",
    "with open(file, \"wb\") as f:\n",
    "    pickle.dump(trolley, f)"
   ]
  },
  {
   "cell_type": "markdown",
   "metadata": {},
   "source": [
    "# 3) Instructions on how to load the pkl files elsewhere\n",
    "\n",
    "To load the pkl files, you would do something like the following, wherein a run's pkl file, containing a dict, is loaded into \"trolley\"\n",
    "\n",
    "\n",
    "```python\n",
    "with open(\"output/TrolleyInfo_3956.pkl\", \"rb\") as f:\n",
    "    trolley = pickle.load(f)\n",
    "```\n",
    "to get the df for probe 6, for example, simply do\n",
    "\n",
    "```python\n",
    "trolley[6]\n",
    "```\n",
    "\n",
    "in general, not all probes may be stored. to get a list of probes, just do\n",
    "\n",
    "```python\n",
    "keys_list = [key for key in trolley.keys()]\n",
    "```\n",
    "\n",
    "\n",
    "\n"
   ]
  }
 ],
 "metadata": {
  "kernelspec": {
   "display_name": "Python 3",
   "language": "python",
   "name": "python3"
  },
  "language_info": {
   "codemirror_mode": {
    "name": "ipython",
    "version": 3
   },
   "file_extension": ".py",
   "mimetype": "text/x-python",
   "name": "python",
   "nbconvert_exporter": "python",
   "pygments_lexer": "ipython3",
   "version": "3.7.3"
  }
 },
 "nbformat": 4,
 "nbformat_minor": 2
}
