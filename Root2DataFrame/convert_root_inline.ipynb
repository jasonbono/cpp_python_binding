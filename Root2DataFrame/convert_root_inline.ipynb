{
 "cells": [
  {
   "cell_type": "markdown",
   "metadata": {},
   "source": [
    "# One way to convert root files to dataframes\n"
   ]
  },
  {
   "cell_type": "code",
   "execution_count": null,
   "metadata": {},
   "outputs": [],
   "source": [
    "import numpy as np\n",
    "import ROOT\n",
    "import pickle\n",
    "import pandas as pd"
   ]
  },
  {
   "cell_type": "markdown",
   "metadata": {},
   "source": []
  },
  {
   "cell_type": "code",
   "execution_count": null,
   "metadata": {},
   "outputs": [],
   "source": []
  },
  {
   "cell_type": "markdown",
   "metadata": {},
   "source": [
    "# Function to get number of entries"
   ]
  },
  {
   "cell_type": "code",
   "execution_count": null,
   "metadata": {},
   "outputs": [],
   "source": [
    "%%cpp -d\n",
    "#include \"../RootTreeStructs.h\"\n",
    "using namespace std;\n",
    "int Entries(){\n",
    "    int run = 3956;\n",
    "//#    int probe = 0;\n",
    "    TFile* filein = new TFile(Form(\"~/Desktop/FieldPlainRootOutput_0%d_tier1.root\",run),\"read\");\n",
    "    TDirectory * dTrolley = (TDirectory*)filein->Get(\"TreeGenTrolley\");\n",
    "    TTree* trolley = (TTree*)dTrolley->Get(\"trolley\");\n",
    "    int N = trolley->GetEntries();\n",
    "    filein->Close();\n",
    "    return N;\n",
    "}"
   ]
  },
  {
   "cell_type": "markdown",
   "metadata": {},
   "source": [
    "# Function to get basic trolley info"
   ]
  },
  {
   "cell_type": "markdown",
   "metadata": {},
   "source": []
  },
  {
   "cell_type": "code",
   "execution_count": null,
   "metadata": {},
   "outputs": [],
   "source": [
    "%%cpp -d\n",
    "#include \"../RootTreeStructs.h\"\n",
    "using namespace std;\n",
    "void TrolleyInfo(double* f, double* p, double* fid_len, int run, int probe){\n",
    "//  int run = 3956;\n",
    "//  int probe = 0;\n",
    "    TFile* filein = new TFile(Form(\"~/Desktop/FieldPlainRootOutput_0%d_tier1.root\",run),\"read\");\n",
    "    TDirectory * dTrolley = (TDirectory*)filein->Get(\"TreeGenTrolley\");\n",
    "    TTree* trolley = (TTree*)dTrolley->Get(\"trolley\");\n",
    "    gm2field::trolleyTimeStamp_t trolleyTimeStamp;\n",
    "    gm2field::trolleyProbeFrequency_t trolleyProbeFrequency;\n",
    "    gm2field::trolleyFieldMultipole_t trolleyFieldMultipole;\n",
    "    gm2field::trolleyPosition_t trolleyPosition;\n",
    "    trolley->SetBranchAddress(\"TimeStamp\",&trolleyTimeStamp.GpsCycleStart);\n",
    "    trolley->SetBranchAddress(\"ProbeFrequency\",&trolleyProbeFrequency.Frequency);\n",
    "    trolley->SetBranchAddress(\"FieldMultipole\",&trolleyFieldMultipole.Multipole);\n",
    "    trolley->SetBranchAddress(\"Position\",&trolleyPosition.Phi);\n",
    "    \n",
    "    //#for FID length\n",
    "    gm2field::trolleyProbeSignal_t trolleyProbeSignal;\n",
    "    //#need to set the first one in the struct, which happens to be amplitude\n",
    "    trolley->SetBranchAddress(\"ProbeSignal\",&trolleyProbeSignal.Amplitude);\n",
    "    \n",
    "///////////////////////////////////////////////////////////////////////////////////\n",
    "    int nAllReadings = trolley->GetEntries();\n",
    "    for(int i=0;i<nAllReadings;i++){ //loop through trolley events\n",
    "        trolley->GetEntry(i);\n",
    "        f[i] = trolleyProbeFrequency.Frequency[probe][0]; \n",
    "        p[i] = trolleyPosition.Phi[probe][2];\n",
    "        fid_len[i] = trolleyProbeSignal.FidLength[probe];\n",
    "    }\n",
    "    filein->Close();\n",
    "    return;\n",
    "}"
   ]
  },
  {
   "cell_type": "markdown",
   "metadata": {},
   "source": [
    "# Function to get trolley FIDs"
   ]
  },
  {
   "cell_type": "code",
   "execution_count": null,
   "metadata": {},
   "outputs": [],
   "source": [
    "%%cpp -d\n",
    "#include \"../RootTreeStructs.h\"\n",
    "using namespace std;\n",
    "void RawFid(double* raw_fid,  int run, int reading, int probe){\n",
    "//  int run = 3956;\n",
    "//  int probe = 0;\n",
    "    TFile* filein = new TFile(Form(\"~/Desktop/FieldPlainRootOutput_0%d_tier1.root\",run),\"read\");\n",
    "    TDirectory * dMyTrolley = (TDirectory*)filein->Get(\"TrolleyWfExtraction\");\n",
    "    TTree* myTrolley = (TTree*)dMyTrolley->Get(\"trolleyWf\");\n",
    "    gm2field::trolleyFid_t trolleyFid;\n",
    "    myTrolley->SetBranchAddress(\"trolleyFid\", &trolleyFid.RawFid);\n",
    "///////////////////////////////////////////////////////////////////////////////////\n",
    "    int fidLength = 16000;\n",
    "    int dataStartingPoint = probe*fidLength;    \n",
    "    myTrolley->GetEntry(reading);                                \n",
    "    for (int i=0; i<fidLength; i++) {\n",
    "        raw_fid[i] = trolleyFid.RawFid[i];\n",
    "    }\n",
    "    filein->Close();\n",
    "    return;\n",
    "}"
   ]
  },
  {
   "cell_type": "code",
   "execution_count": null,
   "metadata": {},
   "outputs": [],
   "source": []
  },
  {
   "cell_type": "code",
   "execution_count": null,
   "metadata": {},
   "outputs": [],
   "source": []
  },
  {
   "cell_type": "markdown",
   "metadata": {},
   "source": []
  },
  {
   "cell_type": "code",
   "execution_count": null,
   "metadata": {},
   "outputs": [],
   "source": []
  },
  {
   "cell_type": "code",
   "execution_count": null,
   "metadata": {},
   "outputs": [],
   "source": []
  },
  {
   "cell_type": "code",
   "execution_count": null,
   "metadata": {},
   "outputs": [],
   "source": []
  },
  {
   "cell_type": "markdown",
   "metadata": {},
   "source": [
    "# Loop over all trolley probes for a given run list. \n",
    "\n",
    "* all info for each probe gets stored as a df.\n",
    "* each probe df gets stored into a dict\n",
    "* each dict is stored as file named by its run\n"
   ]
  },
  {
   "cell_type": "code",
   "execution_count": 14,
   "metadata": {},
   "outputs": [
    {
     "name": "stdout",
     "output_type": "stream",
     "text": [
      "starting run 3956\n",
      "starting probe 0\n",
      "starting probe 1\n",
      "starting probe 2\n"
     ]
    }
   ],
   "source": [
    "#set up for the loop\n",
    "n_entries = ROOT.Entries()\n",
    "probe_list = [p for p in range(17)]\n",
    "run_list = [3956]\n",
    "all_data_frames = {}\n",
    "\n",
    "for run in run_list:\n",
    "    print(\"starting run\",run)\n",
    "    for probe in probe_list:\n",
    "        print(\"starting probe\",probe)\n",
    "        freq = np.empty(n_entries)\n",
    "        pos = np.empty(n_entries)\n",
    "        fid_len = np.empty(n_entries)\n",
    "        ROOT.TrolleyInfo(freq,pos,fid_len,run,probe)\n",
    "        df = pd.DataFrame({'Frequency':freq, \n",
    "                           'Position':pos, \n",
    "                           'Fid_len': fid_len})\n",
    "        all_data_frames[probe] = df\n",
    "        \n",
    "    with open(\"./output/TrolleyInfo_\" + str(run) + \".pkl\", \"wb\") as f:\n",
    "        pickle.dump(all_data_frames, f)"
   ]
  },
  {
   "cell_type": "markdown",
   "metadata": {},
   "source": []
  },
  {
   "cell_type": "code",
   "execution_count": null,
   "metadata": {},
   "outputs": [],
   "source": []
  },
  {
   "cell_type": "markdown",
   "metadata": {},
   "source": [
    "# (How to load the pkl files)\n",
    "\n",
    "To load the pkl files, you would do something like the following, wherein a run's pkl file, containing a dict, is loaded into \"trolley\"\n",
    "\n",
    "\n",
    "```python\n",
    "with open(\"output/TrolleyInfo_3956.pkl\", \"rb\") as f:\n",
    "    trolley = pickle.load(f)\n",
    "```\n",
    "to get the df for probe 6, for example, simply do\n",
    "\n",
    "```python\n",
    "trolley[6]\n",
    "```\n",
    "\n",
    "in general, not all probes may be stored. to get a list of probes, just do\n",
    "\n",
    "```python\n",
    "keys_list = [key for key in trolley.keys()]\n",
    "```\n",
    "\n",
    "\n",
    "\n"
   ]
  },
  {
   "cell_type": "markdown",
   "metadata": {},
   "source": []
  },
  {
   "cell_type": "code",
   "execution_count": null,
   "metadata": {},
   "outputs": [],
   "source": [
    "\n",
    "\n"
   ]
  },
  {
   "cell_type": "code",
   "execution_count": null,
   "metadata": {},
   "outputs": [],
   "source": []
  },
  {
   "cell_type": "code",
   "execution_count": null,
   "metadata": {},
   "outputs": [],
   "source": []
  },
  {
   "cell_type": "code",
   "execution_count": null,
   "metadata": {},
   "outputs": [],
   "source": []
  },
  {
   "cell_type": "markdown",
   "metadata": {},
   "source": [
    "# Show how to get the raw FIDs"
   ]
  },
  {
   "cell_type": "code",
   "execution_count": null,
   "metadata": {},
   "outputs": [],
   "source": []
  },
  {
   "cell_type": "code",
   "execution_count": null,
   "metadata": {},
   "outputs": [],
   "source": [
    "raw_fid = np.empty(16000)\n",
    "reading = 4\n",
    "probe = 0\n",
    "run = 3956\n",
    "ROOT.RawFid(raw_fid,run,reading,probe)"
   ]
  },
  {
   "cell_type": "code",
   "execution_count": null,
   "metadata": {},
   "outputs": [],
   "source": [
    "plt.plot(raw_fid, 'o', color='black');"
   ]
  },
  {
   "cell_type": "markdown",
   "metadata": {},
   "source": [
    "# Select specific raw FIDs based on their length\n",
    "\n",
    "## First, medium-length FIDS"
   ]
  },
  {
   "cell_type": "code",
   "execution_count": null,
   "metadata": {},
   "outputs": [],
   "source": [
    "df.hist(column='FID_len',bins=300)"
   ]
  },
  {
   "cell_type": "code",
   "execution_count": null,
   "metadata": {},
   "outputs": [],
   "source": [
    "print(df.head(9))"
   ]
  },
  {
   "cell_type": "code",
   "execution_count": null,
   "metadata": {},
   "outputs": [],
   "source": []
  },
  {
   "cell_type": "code",
   "execution_count": null,
   "metadata": {},
   "outputs": [],
   "source": [
    "df_med_fids = df[ (fid_len > 0.00599) & (fid_len < 0.006) ]\n",
    "df_med_fids.hist(column='FID_len',bins=300)\n",
    "med_event_list = df_med_fids.index.tolist()\n",
    "print(med_event_list)"
   ]
  },
  {
   "cell_type": "code",
   "execution_count": null,
   "metadata": {},
   "outputs": [],
   "source": []
  },
  {
   "cell_type": "code",
   "execution_count": null,
   "metadata": {},
   "outputs": [],
   "source": [
    "# df_med_fids['RawFid'] = \"\"\n",
    "df_med_fids.loc[:,\"RawFid\"].astype(object,copy=False)\n",
    "# print(df_med_fids)"
   ]
  },
  {
   "cell_type": "code",
   "execution_count": null,
   "metadata": {},
   "outputs": [],
   "source": [
    "probe = 0\n",
    "run = 3956\n",
    "for reading in med_event_list:\n",
    "    raw_fid = np.empty(16000)\n",
    "    ROOT.RawFid(raw_fid,run,reading,probe)\n",
    "    df_med_fids.at[reading, 'RawFid'] = raw_fid"
   ]
  },
  {
   "cell_type": "code",
   "execution_count": null,
   "metadata": {},
   "outputs": [],
   "source": [
    "df_med_fids"
   ]
  },
  {
   "cell_type": "markdown",
   "metadata": {},
   "source": [
    "## Second, medium-length FIDS"
   ]
  },
  {
   "cell_type": "code",
   "execution_count": null,
   "metadata": {},
   "outputs": [],
   "source": [
    "df_long_fids = df[ (fid_len > 0.00879) & (fid_len < 0.0088) ]\n",
    "df_long_fids.hist(column='FID_len',bins=300)\n",
    "long_event_list = df_long_fids.index.tolist()\n",
    "print(long_event_list)"
   ]
  },
  {
   "cell_type": "code",
   "execution_count": null,
   "metadata": {},
   "outputs": [],
   "source": [
    "df_long_fids['RawFid'] = \"\"\n",
    "df_long_fids['RawFid'].astype(object,copy=False)\n",
    "print(df_long_fids)"
   ]
  },
  {
   "cell_type": "code",
   "execution_count": null,
   "metadata": {},
   "outputs": [],
   "source": [
    "probe = 0\n",
    "run = 3956\n",
    "for reading in long_event_list:\n",
    "    raw_fid = np.empty(16000)\n",
    "    ROOT.RawFid(raw_fid,run,reading,probe)\n",
    "    df_long_fids.at[reading, 'RawFid'] = raw_fid\n",
    "print(df_long_fids)"
   ]
  },
  {
   "cell_type": "markdown",
   "metadata": {},
   "source": [
    "## short FIDs, and very short FIDs"
   ]
  },
  {
   "cell_type": "code",
   "execution_count": null,
   "metadata": {},
   "outputs": [],
   "source": [
    "df_short_fids = df[ (fid_len > 0.0039) & (fid_len < 0.004) ]\n",
    "df_short_fids.hist(column='FID_len',bins=300)\n",
    "short_event_list = df_short_fids.index.tolist()\n",
    "print(short_event_list)\n",
    "df_short_fids['RawFid'] = \"\"\n",
    "df_short_fids['RawFid'].astype(object,copy=False)\n",
    "print(df_short_fids)\n",
    "probe = 0\n",
    "run = 3956\n",
    "for reading in short_event_list:\n",
    "    raw_fid = np.empty(16000)\n",
    "    ROOT.RawFid(raw_fid,run,reading,probe)\n",
    "    df_short_fids.at[reading, 'RawFid'] = raw_fid\n",
    "print(df_short_fids)"
   ]
  },
  {
   "cell_type": "code",
   "execution_count": null,
   "metadata": {},
   "outputs": [],
   "source": [
    "df_vshort_fids = df[ (fid_len > 0.001) & (fid_len < 0.002) ]\n",
    "df_vshort_fids.hist(column='FID_len',bins=300)\n",
    "vshort_event_list = df_vshort_fids.index.tolist()\n",
    "# print(vshort_event_list)\n",
    "df_vshort_fids['RawFid'] = \"\"\n",
    "df_vshort_fids['RawFid'].astype(object,copy=False)\n",
    "# print(df_vshort_fids)\n",
    "probe = 0\n",
    "run = 3956\n",
    "for reading in vshort_event_list:\n",
    "    raw_fid = np.empty(16000)\n",
    "    ROOT.RawFid(raw_fid,run,reading,probe)\n",
    "    df_vshort_fids.at[reading, 'RawFid'] = raw_fid\n",
    "# print(df_vshort_fids)"
   ]
  },
  {
   "cell_type": "markdown",
   "metadata": {},
   "source": [
    "## Compare random FIDs from the four groups"
   ]
  },
  {
   "cell_type": "code",
   "execution_count": null,
   "metadata": {},
   "outputs": [],
   "source": [
    "plt.plot(df_long_fids.loc[1963,\"RawFid\"], 'o', color='green',alpha=0.01);\n",
    "plt.plot(df_med_fids.loc[1004,\"RawFid\"], 'o', color='yellow',alpha=0.01);\n",
    "plt.plot(df_short_fids.loc[6130,\"RawFid\"], 'o', color='red', alpha=0.01);\n",
    "plt.plot(df_vshort_fids.loc[5528,\"RawFid\"], 'o', color='black', alpha=0.01 );"
   ]
  },
  {
   "cell_type": "markdown",
   "metadata": {},
   "source": [
    "# Look at FID length vs event number"
   ]
  },
  {
   "cell_type": "code",
   "execution_count": null,
   "metadata": {},
   "outputs": [],
   "source": [
    "df[['FID_len']].plot()"
   ]
  },
  {
   "cell_type": "markdown",
   "metadata": {},
   "source": []
  }
 ],
 "metadata": {
  "kernelspec": {
   "display_name": "Python 3",
   "language": "python",
   "name": "python3"
  },
  "language_info": {
   "codemirror_mode": {
    "name": "ipython",
    "version": 3
   },
   "file_extension": ".py",
   "mimetype": "text/x-python",
   "name": "python",
   "nbconvert_exporter": "python",
   "pygments_lexer": "ipython3",
   "version": "3.7.3"
  }
 },
 "nbformat": 4,
 "nbformat_minor": 2
}
