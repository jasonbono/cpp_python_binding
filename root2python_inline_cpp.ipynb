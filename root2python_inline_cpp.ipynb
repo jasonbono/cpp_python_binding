{
 "cells": [
  {
   "cell_type": "markdown",
   "metadata": {},
   "source": [
    "# This notebook demonstrates how to use pyroot's bindings to c++, to enable reading root files into python, though embedded c++ code in the jupyter notebook\n"
   ]
  },
  {
   "cell_type": "code",
   "execution_count": 1,
   "metadata": {},
   "outputs": [
    {
     "name": "stdout",
     "output_type": "stream",
     "text": [
      "Welcome to JupyROOT 6.16/00\n"
     ]
    }
   ],
   "source": [
    "import numpy as np\n",
    "import ROOT"
   ]
  },
  {
   "cell_type": "markdown",
   "metadata": {},
   "source": [
    "## First, some simple examples showing how to bind to cpp and pass information to and from python ##"
   ]
  },
  {
   "cell_type": "code",
   "execution_count": 2,
   "metadata": {},
   "outputs": [
    {
     "name": "stdout",
     "output_type": "stream",
     "text": [
      "a = 6\n"
     ]
    }
   ],
   "source": [
    "%%cpp\n",
    "//\"cpp is now enabled in this block of code\"\n",
    "#include <iostream>\n",
    "float a = 6;\n",
    "cout <<\"a = \" <<a<<endl;"
   ]
  },
  {
   "cell_type": "code",
   "execution_count": 3,
   "metadata": {},
   "outputs": [],
   "source": [
    "%%cpp -d\n",
    "//\"the following function is interpreted as cpp\"\n",
    "float mag() {\n",
    "    return 9.0;\n",
    "}"
   ]
  },
  {
   "cell_type": "code",
   "execution_count": 4,
   "metadata": {},
   "outputs": [
    {
     "data": {
      "text/plain": [
       "9.0"
      ]
     },
     "execution_count": 4,
     "metadata": {},
     "output_type": "execute_result"
    }
   ],
   "source": [
    "a = ROOT.mag()\n",
    "a"
   ]
  },
  {
   "cell_type": "markdown",
   "metadata": {},
   "source": [
    "### You can pass an array in the following way"
   ]
  },
  {
   "cell_type": "code",
   "execution_count": 5,
   "metadata": {},
   "outputs": [],
   "source": [
    "%%cpp -d\n",
    "void simple_array(double out[]) {\n",
    "    //\"note that the length of the loop is hard coded, to emulate an unknown number of events\"\n",
    "    for (int i = 0; i < 4; i++) {\n",
    "        out[i] = sqrt(i);\n",
    "    }\n",
    "}"
   ]
  },
  {
   "cell_type": "markdown",
   "metadata": {},
   "source": [
    "Needing to know the size of the array before the function can problematic. One soultion is to guess high on the size, and to truncate the array after filling"
   ]
  },
  {
   "cell_type": "code",
   "execution_count": 6,
   "metadata": {},
   "outputs": [
    {
     "name": "stdout",
     "output_type": "stream",
     "text": [
      "start with: [nan nan nan nan nan nan]\n",
      "end with: [0.         1.         1.41421356 1.73205081]\n"
     ]
    }
   ],
   "source": [
    "a = np.empty(6)\n",
    "a[:] = np.nan\n",
    "print(\"start with:\", a)\n",
    "ROOT.simple_array(a)\n",
    "a = a[~np.isnan(a)]\n",
    "print(\"end with:\", a)"
   ]
  },
  {
   "cell_type": "markdown",
   "metadata": {},
   "source": [
    "### We can pass two independent arrays and their lengths"
   ]
  },
  {
   "cell_type": "code",
   "execution_count": 7,
   "metadata": {},
   "outputs": [],
   "source": [
    "%%cpp -d\n",
    "void two_arrays(double out1[], double out2[], double* shape) {\n",
    "    int N = 4; //\"a 'hidden' size\"\n",
    "    int M = 5; //\"a 'hidden' size\"\n",
    "    shape[0] = N;\n",
    "    shape[1] = M;\n",
    "    for (int i = 0; i < N; i++) {\n",
    "        out1[i] = sqrt(i);\n",
    "    }\n",
    "    for (int j = 0; j < M; j++) {\n",
    "         out2[j] = -j*2.0;\n",
    "    }   \n",
    "}"
   ]
  },
  {
   "cell_type": "code",
   "execution_count": 8,
   "metadata": {},
   "outputs": [
    {
     "name": "stdout",
     "output_type": "stream",
     "text": [
      "a = [0.         1.         1.41421356 1.73205081]\n",
      "b = [ 0. -2. -4. -6. -8.]\n",
      "the size of a and b is [4. 5.]\n"
     ]
    }
   ],
   "source": [
    "n = 7\n",
    "m = 7\n",
    "a = np.empty(n)\n",
    "a[:] = np.nan\n",
    "b = np.empty(m)\n",
    "b[:] = np.nan\n",
    "shape = np.zeros(2)\n",
    "\n",
    "ROOT.two_arrays(a,b,shape)\n",
    "\n",
    "a = a[0:int(shape[0])]\n",
    "b = b[0:int(shape[1])]\n",
    "print(\"a =\", a)\n",
    "print(\"b =\", b)\n",
    "print(\"the size of a and b is\",shape)\n"
   ]
  },
  {
   "cell_type": "markdown",
   "metadata": {},
   "source": [
    "### We can pass multi-dim arrays by mapping them onto 1-dim arrays ###\n",
    "Below we fold a dim-2 IxJ array into a dim-1 I*J array by letting\n",
    "```python\n",
    "dim_2[i][j] = dim_1[i*J + j]\n",
    "```"
   ]
  },
  {
   "cell_type": "code",
   "execution_count": 9,
   "metadata": {},
   "outputs": [],
   "source": [
    "%%cpp -d\n",
    "void nested_arrays(double out1[], double out2[], double shape[]) {\n",
    "    int I = 4;\n",
    "    int J = 5;\n",
    "    shape[0] = I;\n",
    "    shape[1] = J;\n",
    "    for (int i = 0; i < I; i++) {\n",
    "        out1[i] = sqrt(i);\n",
    "        for (int j = 0; j < J; j++) {\n",
    "            out2[i*J + j] = j;          \n",
    "        }\n",
    "    }   \n",
    "}"
   ]
  },
  {
   "cell_type": "code",
   "execution_count": 10,
   "metadata": {},
   "outputs": [],
   "source": [
    "I = 10\n",
    "J = 10\n",
    "a = np.zeros(I)\n",
    "a[:] = np.nan\n",
    "b = np.zeros((I + 1)*J)\n",
    "b[:] = np.nan\n",
    "shape = np.zeros(2)\n",
    "ROOT.nested_arrays(a,b,shape)\n",
    "#can throw in a saftey switch to ensure the array sizes were not under estimated\n",
    "if ((I<shape[0]) or (J<shape[1])):\n",
    "    raise TypeError(\"The arrays are larger than you guessed\")\n",
    "else:\n",
    "    I=int(shape[0])\n",
    "    J=int(shape[1])"
   ]
  },
  {
   "cell_type": "markdown",
   "metadata": {},
   "source": [
    "We can unfold the 1d array into a 2d IxJ array using reshape. Note that each row in the 2d array corresponds to an emulated \"event\""
   ]
  },
  {
   "cell_type": "code",
   "execution_count": 11,
   "metadata": {
    "scrolled": true
   },
   "outputs": [
    {
     "name": "stdout",
     "output_type": "stream",
     "text": [
      "shape=[4. 5.]\n",
      "\n",
      "a=[0.         1.         1.41421356 1.73205081]\n",
      "\n",
      "b = [0. 1. 2. 3. 4. 0. 1. 2. 3. 4. 0. 1. 2. 3. 4. 0. 1. 2. 3. 4.]\n",
      "\n",
      "b, unfolded back to a 2d array, is b_2d = [[0. 1. 2. 3. 4.]\n",
      " [0. 1. 2. 3. 4.]\n",
      " [0. 1. 2. 3. 4.]\n",
      " [0. 1. 2. 3. 4.]]\n",
      "\n"
     ]
    }
   ],
   "source": [
    "a = a[~np.isnan(a)]\n",
    "b = b[~np.isnan(b)]\n",
    "b_2d = np.reshape(b, [I,J])\n",
    "print(\"shape=\" + str(shape) + \"\\n\")\n",
    "print(\"a=\" + str(a) + \"\\n\")\n",
    "print(\"b = \" + str(b) + \"\\n\")\n",
    "print(\"b, unfolded back to a 2d array, is b_2d = \" + str(b_2d) + \"\\n\")"
   ]
  },
  {
   "cell_type": "markdown",
   "metadata": {},
   "source": [
    "# Let's get some info from a gm2 root file #\n",
    "\n",
    "\n",
    "### We can get the number of entries from a root file"
   ]
  },
  {
   "cell_type": "code",
   "execution_count": 12,
   "metadata": {},
   "outputs": [],
   "source": [
    "%%cpp -d\n",
    "#include \"RootTreeStructs.h\"\n",
    "using namespace std;\n",
    "int Entries(){\n",
    "    int run = 3956;\n",
    "//#    int probe = 0;\n",
    "    TFile* filein = new TFile(Form(\"~/Desktop/FieldPlainRootOutput_0%d_tier1.root\",run),\"read\");\n",
    "    TDirectory * dTrolley = (TDirectory*)filein->Get(\"TreeGenTrolley\");\n",
    "    TTree* trolley = (TTree*)dTrolley->Get(\"trolley\");\n",
    "    int N = trolley->GetEntries();\n",
    "    filein->Close();\n",
    "    return N;\n",
    "}"
   ]
  },
  {
   "cell_type": "code",
   "execution_count": 13,
   "metadata": {},
   "outputs": [
    {
     "data": {
      "text/plain": [
       "8781"
      ]
     },
     "execution_count": 13,
     "metadata": {},
     "output_type": "execute_result"
    }
   ],
   "source": [
    "n_entries = ROOT.Entries()\n",
    "n_entries"
   ]
  },
  {
   "cell_type": "markdown",
   "metadata": {},
   "source": [
    "### We can get further info from the gm2 field root file"
   ]
  },
  {
   "cell_type": "code",
   "execution_count": 14,
   "metadata": {},
   "outputs": [],
   "source": [
    "%%cpp -d\n",
    "#include \"RootTreeStructs.h\"\n",
    "using namespace std;\n",
    "void FreqPhi(double* f, double* p, int run, int probe){\n",
    "//  int run = 3956;\n",
    "//  int probe = 0;\n",
    "    TFile* filein = new TFile(Form(\"~/Desktop/FieldPlainRootOutput_0%d_tier1.root\",run),\"read\");\n",
    "    TDirectory * dTrolley = (TDirectory*)filein->Get(\"TreeGenTrolley\");\n",
    "    TTree* trolley = (TTree*)dTrolley->Get(\"trolley\");\n",
    "    gm2field::trolleyTimeStamp_t trolleyTimeStamp;\n",
    "    gm2field::trolleyProbeFrequency_t trolleyProbeFrequency;\n",
    "    gm2field::trolleyFieldMultipole_t trolleyFieldMultipole;\n",
    "    gm2field::trolleyPosition_t trolleyPosition;\n",
    "    trolley->SetBranchAddress(\"TimeStamp\",&trolleyTimeStamp.GpsCycleStart);\n",
    "    trolley->SetBranchAddress(\"ProbeFrequency\",&trolleyProbeFrequency.Frequency);\n",
    "    trolley->SetBranchAddress(\"FieldMultipole\",&trolleyFieldMultipole.Multipole);\n",
    "    trolley->SetBranchAddress(\"Position\",&trolleyPosition.Phi);\n",
    "///////////////////////////////////////////////////////////////////////////////////\n",
    "    int nAllReadings = trolley->GetEntries();\n",
    "    for(int i=0;i<nAllReadings;i++){ //loop through trolley events\n",
    "        trolley->GetEntry(i);\n",
    "        f[i] = trolleyProbeFrequency.Frequency[probe][0]; \n",
    "        p[i] = trolleyPosition.Phi[probe][2];\n",
    "    }\n",
    "    filein->Close();\n",
    "    return;\n",
    "}"
   ]
  },
  {
   "cell_type": "code",
   "execution_count": 15,
   "metadata": {},
   "outputs": [],
   "source": [
    "n_entries = ROOT.Entries()\n",
    "freq = np.empty(n_entries)\n",
    "pos = np.empty(n_entries)\n",
    "run = 3956\n",
    "probe = 0\n",
    "ROOT.FreqPhi(freq,pos,run,probe)"
   ]
  },
  {
   "cell_type": "code",
   "execution_count": 16,
   "metadata": {},
   "outputs": [
    {
     "name": "stdout",
     "output_type": "stream",
     "text": [
      "[-1.00000000e+00 -1.00000000e+00  1.48141515e+04 ...  5.28473212e+04\n",
      "  5.28459467e+04  5.28466916e+04]\n",
      "[262.19376043 262.19381813 262.19376777 ... 261.72356562 261.72356562\n",
      " 261.72356562]\n"
     ]
    }
   ],
   "source": [
    "print(freq)\n",
    "print(pos)"
   ]
  },
  {
   "cell_type": "code",
   "execution_count": 17,
   "metadata": {},
   "outputs": [],
   "source": [
    "import matplotlib.pyplot as plt\n",
    "plt.style.use('seaborn-whitegrid')\n",
    "plt.plot(pos, freq, 'o', color='black');"
   ]
  },
  {
   "cell_type": "markdown",
   "metadata": {},
   "source": [
    "### Below is a simple demonstration of how you can pack the arrays of interest into a pandas df, and save, as a pickel file for later use ###"
   ]
  },
  {
   "cell_type": "code",
   "execution_count": 18,
   "metadata": {},
   "outputs": [
    {
     "data": {
      "image/png": "[encoded data removed]",
      "text/plain": [
       "<Figure size 432x288 with 1 Axes>"
      ]
     },
     "metadata": {
      "needs_background": "light"
     },
     "output_type": "display_data"
    }
   ],
   "source": [
    "import pandas as pd\n",
    "df = pd.DataFrame({'Frequency':freq, 'Position':pos})\n",
    "df.plot('Position', 'Frequency', kind='scatter')\n",
    "\n",
    "\n",
    "df.to_pickle(\"./freq_pos.pkl\")"
   ]
  },
  {
   "cell_type": "code",
   "execution_count": 19,
   "metadata": {},
   "outputs": [
    {
     "data": {
      "text/plain": [
       "<matplotlib.axes._subplots.AxesSubplot at 0x104f4c2b0>"
      ]
     },
     "execution_count": 19,
     "metadata": {},
     "output_type": "execute_result"
    },
    {
     "data": {
      "image/png": "[encoded data removed]",
      "text/plain": [
       "<Figure size 432x288 with 1 Axes>"
      ]
     },
     "metadata": {
      "needs_background": "light"
     },
     "output_type": "display_data"
    }
   ],
   "source": [
    "unpickled_df = pd.read_pickle(\"./freq_pos.pkl\")\n",
    "unpickled_df.plot('Frequency', 'Position', kind='scatter')"
   ]
  },
  {
   "cell_type": "code",
   "execution_count": null,
   "metadata": {},
   "outputs": [],
   "source": []
  },
  {
   "cell_type": "markdown",
   "metadata": {},
   "source": [
    "### Similarly, we can store a dict of pandas dataframes "
   ]
  },
  {
   "cell_type": "code",
   "execution_count": 20,
   "metadata": {},
   "outputs": [],
   "source": [
    "#create a dict to store the various probes' dataframes\n",
    "all_data_frames = {}\n",
    "n_entries = ROOT.Entries()\n",
    "run = 3956\n",
    "#get the arrays into dataframes into a dictionary, for a few probes, with the following loop\n",
    "for probe in range(3):\n",
    "    freq = np.empty(n_entries)\n",
    "    pos = np.empty(n_entries)\n",
    "    ROOT.FreqPhi(freq,pos,run,probe)\n",
    "    df = pd.DataFrame({'Frequency':freq, 'Position':pos})\n",
    "    all_data_frames[probe] = df"
   ]
  },
  {
   "cell_type": "markdown",
   "metadata": {},
   "source": [
    "And we can save/load dict of dataframes with pickel"
   ]
  },
  {
   "cell_type": "code",
   "execution_count": 21,
   "metadata": {},
   "outputs": [],
   "source": [
    "import pickle\n",
    "with open(\"./freq_pos_dict.pkl\", \"wb\") as f:\n",
    "    pickle.dump(all_data_frames, f)"
   ]
  },
  {
   "cell_type": "code",
   "execution_count": 22,
   "metadata": {},
   "outputs": [
    {
     "data": {
      "text/plain": [
       "<matplotlib.axes._subplots.AxesSubplot at 0x122e6a128>"
      ]
     },
     "execution_count": 22,
     "metadata": {},
     "output_type": "execute_result"
    },
    {
     "name": "stderr",
     "output_type": "stream",
     "text": [
      "/usr/local/lib/python3.7/site-packages/matplotlib/backends/backend_agg.py:211: RuntimeWarning: Glyph 8722 missing from current font.\n",
      "  font.set_text(s, 0.0, flags=flags)\n",
      "/usr/local/lib/python3.7/site-packages/matplotlib/backends/backend_agg.py:180: RuntimeWarning: Glyph 8722 missing from current font.\n",
      "  font.set_text(s, 0, flags=flags)\n"
     ]
    },
    {
     "data": {
      "image/png": "[encoded data removed]",
      "text/plain": [
       "<Figure size 432x288 with 1 Axes>"
      ]
     },
     "metadata": {
      "needs_background": "light"
     },
     "output_type": "display_data"
    },
    {
     "data": {
      "image/png": "[encoded data removed]",
      "text/plain": [
       "<Figure size 432x288 with 1 Axes>"
      ]
     },
     "metadata": {
      "needs_background": "light"
     },
     "output_type": "display_data"
    }
   ],
   "source": [
    "with open(\"freq_pos_dict.pkl\", \"rb\") as f:\n",
    "    loaded_data_frames = pickle.load(f)\n",
    "\n",
    "#show that the loaded dict is storing information for distinct probes \n",
    "subtraction = loaded_data_frames[0] - loaded_data_frames[1]\n",
    "subtraction.plot('Position', 'Frequency', kind='scatter')\n",
    "subtraction = loaded_data_frames[0] - loaded_data_frames[2]\n",
    "subtraction.plot('Position', 'Frequency', kind='scatter')"
   ]
  },
  {
   "cell_type": "markdown",
   "metadata": {},
   "source": [
    "# Demonstrate how to pull FID length"
   ]
  },
  {
   "cell_type": "code",
   "execution_count": 23,
   "metadata": {},
   "outputs": [],
   "source": [
    "%%cpp -d\n",
    "#include \"RootTreeStructs.h\"\n",
    "using namespace std;\n",
    "void FidLength(double* f, double* p, double* fid_len, int run, int probe){\n",
    "//  int run = 3956;\n",
    "//  int probe = 0;\n",
    "    TFile* filein = new TFile(Form(\"~/Desktop/FieldPlainRootOutput_0%d_tier1.root\",run),\"read\");\n",
    "    TDirectory * dTrolley = (TDirectory*)filein->Get(\"TreeGenTrolley\");\n",
    "    TTree* trolley = (TTree*)dTrolley->Get(\"trolley\");\n",
    "    gm2field::trolleyTimeStamp_t trolleyTimeStamp;\n",
    "    gm2field::trolleyProbeFrequency_t trolleyProbeFrequency;\n",
    "    gm2field::trolleyFieldMultipole_t trolleyFieldMultipole;\n",
    "    gm2field::trolleyPosition_t trolleyPosition;\n",
    "    trolley->SetBranchAddress(\"TimeStamp\",&trolleyTimeStamp.GpsCycleStart);\n",
    "    trolley->SetBranchAddress(\"ProbeFrequency\",&trolleyProbeFrequency.Frequency);\n",
    "    trolley->SetBranchAddress(\"FieldMultipole\",&trolleyFieldMultipole.Multipole);\n",
    "    trolley->SetBranchAddress(\"Position\",&trolleyPosition.Phi);\n",
    "    \n",
    "    //#for FID length\n",
    "    gm2field::trolleyProbeSignal_t trolleyProbeSignal;\n",
    "    //#need to set the first one in the struct, which happens to be amplitude\n",
    "    trolley->SetBranchAddress(\"ProbeSignal\",&trolleyProbeSignal.Amplitude);\n",
    "    \n",
    "///////////////////////////////////////////////////////////////////////////////////\n",
    "    int nAllReadings = trolley->GetEntries();\n",
    "    for(int i=0;i<nAllReadings;i++){ //loop through trolley events\n",
    "        trolley->GetEntry(i);\n",
    "        f[i] = trolleyProbeFrequency.Frequency[probe][0]; \n",
    "        p[i] = trolleyPosition.Phi[probe][2];\n",
    "        fid_len[i] = trolleyProbeSignal.FidLength[probe];\n",
    "    }\n",
    "    filein->Close();\n",
    "    return;\n",
    "}\n",
    "\n"
   ]
  },
  {
   "cell_type": "code",
   "execution_count": 24,
   "metadata": {},
   "outputs": [],
   "source": [
    "n_entries = ROOT.Entries()\n",
    "freq = np.empty(n_entries)\n",
    "pos = np.empty(n_entries)\n",
    "fid_len = np.empty(n_entries)\n",
    "run = 3956\n",
    "probe = 0\n",
    "ROOT.FidLength(freq,pos,fid_len,run,probe)"
   ]
  },
  {
   "cell_type": "code",
   "execution_count": 25,
   "metadata": {},
   "outputs": [
    {
     "name": "stdout",
     "output_type": "stream",
     "text": [
      "      Frequency    Position   FID_len\n",
      "0     -1.000000  262.193760  0.000018\n",
      "1     -1.000000  262.193818  0.000020\n",
      "2  14814.151542  262.193768  0.000042\n",
      "3    462.712654  262.193775  0.000057\n",
      "4  52729.143614  262.193738  0.007718\n"
     ]
    }
   ],
   "source": [
    "df = pd.DataFrame({'Frequency':freq, 'Position':pos, \"FID_len\":fid_len})\n",
    "print(df.head())"
   ]
  },
  {
   "cell_type": "code",
   "execution_count": 26,
   "metadata": {},
   "outputs": [
    {
     "data": {
      "text/plain": [
       "<matplotlib.axes._subplots.AxesSubplot at 0x122e46eb8>"
      ]
     },
     "execution_count": 26,
     "metadata": {},
     "output_type": "execute_result"
    },
    {
     "data": {
      "image/png": "[encoded data removed]",
      "text/plain": [
       "<Figure size 432x288 with 1 Axes>"
      ]
     },
     "metadata": {
      "needs_background": "light"
     },
     "output_type": "display_data"
    }
   ],
   "source": [
    "df.plot('Position', 'FID_len', kind='scatter')"
   ]
  },
  {
   "cell_type": "markdown",
   "metadata": {},
   "source": [
    "# Show how to get the raw FIDs"
   ]
  },
  {
   "cell_type": "code",
   "execution_count": 27,
   "metadata": {},
   "outputs": [],
   "source": [
    "%%cpp -d\n",
    "#include \"RootTreeStructs.h\"\n",
    "using namespace std;\n",
    "void RawFid(double* raw_fid,  int run, int reading, int probe){\n",
    "//  int run = 3956;\n",
    "//  int probe = 0;\n",
    "    TFile* filein = new TFile(Form(\"~/Desktop/FieldPlainRootOutput_0%d_tier1.root\",run),\"read\");\n",
    "    TDirectory * dMyTrolley = (TDirectory*)filein->Get(\"TrolleyWfExtraction\");\n",
    "    TTree* myTrolley = (TTree*)dMyTrolley->Get(\"trolleyWf\");\n",
    "    gm2field::trolleyFid_t trolleyFid;\n",
    "    myTrolley->SetBranchAddress(\"trolleyFid\", &trolleyFid.RawFid);\n",
    "///////////////////////////////////////////////////////////////////////////////////\n",
    "    int fidLength = 16000;\n",
    "    int dataStartingPoint = probe*fidLength;    \n",
    "    myTrolley->GetEntry(reading);                                \n",
    "    for (int i=0; i<fidLength; i++) {\n",
    "        raw_fid[i] = trolleyFid.RawFid[i];\n",
    "    }\n",
    "    filein->Close();\n",
    "    return;\n",
    "}"
   ]
  },
  {
   "cell_type": "code",
   "execution_count": 28,
   "metadata": {},
   "outputs": [],
   "source": [
    "raw_fid = np.empty(16000)\n",
    "reading = 4\n",
    "probe = 0\n",
    "run = 3956\n",
    "ROOT.RawFid(raw_fid,run,reading,probe)"
   ]
  },
  {
   "cell_type": "code",
   "execution_count": 29,
   "metadata": {},
   "outputs": [
    {
     "data": {
      "image/png": "[encoded data removed]",
      "text/plain": [
       "<Figure size 432x288 with 1 Axes>"
      ]
     },
     "metadata": {
      "needs_background": "light"
     },
     "output_type": "display_data"
    }
   ],
   "source": [
    "plt.plot(raw_fid, 'o', color='black');"
   ]
  },
  {
   "cell_type": "markdown",
   "metadata": {},
   "source": [
    "# Select specific raw FIDs based on their length\n",
    "\n",
    "## First, medium-length FIDS"
   ]
  },
  {
   "cell_type": "code",
   "execution_count": 30,
   "metadata": {},
   "outputs": [
    {
     "data": {
      "text/plain": [
       "array([[<matplotlib.axes._subplots.AxesSubplot object at 0x122f9b2e8>]],\n",
       "      dtype=object)"
      ]
     },
     "execution_count": 30,
     "metadata": {},
     "output_type": "execute_result"
    },
    {
     "data": {
      "image/png": "[encoded data removed]",
      "text/plain": [
       "<Figure size 432x288 with 1 Axes>"
      ]
     },
     "metadata": {
      "needs_background": "light"
     },
     "output_type": "display_data"
    }
   ],
   "source": [
    "df.hist(column='FID_len',bins=300)"
   ]
  },
  {
   "cell_type": "code",
   "execution_count": 31,
   "metadata": {},
   "outputs": [
    {
     "name": "stdout",
     "output_type": "stream",
     "text": [
      "      Frequency    Position   FID_len\n",
      "0     -1.000000  262.193760  0.000018\n",
      "1     -1.000000  262.193818  0.000020\n",
      "2  14814.151542  262.193768  0.000042\n",
      "3    462.712654  262.193775  0.000057\n",
      "4  52729.143614  262.193738  0.007718\n",
      "5  52728.010318  262.193753  0.007642\n",
      "6  52729.616173  262.193716  0.007604\n",
      "7  52729.007579  262.193661  0.007642\n",
      "8  52729.169397  262.193804  0.007623\n"
     ]
    }
   ],
   "source": [
    "print(df.head(9))"
   ]
  },
  {
   "cell_type": "code",
   "execution_count": null,
   "metadata": {},
   "outputs": [],
   "source": []
  },
  {
   "cell_type": "code",
   "execution_count": 32,
   "metadata": {},
   "outputs": [
    {
     "name": "stdout",
     "output_type": "stream",
     "text": [
      "[441, 1004, 1647, 2475, 2504, 3531, 3552, 4327, 4934, 4936, 4945, 4983, 5974, 7056, 7803]\n"
     ]
    },
    {
     "data": {
      "image/png": "[encoded data removed]",
      "text/plain": [
       "<Figure size 432x288 with 1 Axes>"
      ]
     },
     "metadata": {
      "needs_background": "light"
     },
     "output_type": "display_data"
    }
   ],
   "source": [
    "df_med_fids = df[ (fid_len > 0.00599) & (fid_len < 0.006) ]\n",
    "df_med_fids.hist(column='FID_len',bins=300)\n",
    "med_event_list = df_med_fids.index.tolist()\n",
    "print(med_event_list)"
   ]
  },
  {
   "cell_type": "code",
   "execution_count": null,
   "metadata": {},
   "outputs": [],
   "source": []
  },
  {
   "cell_type": "code",
   "execution_count": 33,
   "metadata": {},
   "outputs": [
    {
     "ename": "KeyError",
     "evalue": "'RawFid'",
     "output_type": "error",
     "traceback": [
      "\u001b[0;31m---------------------------------------------------------------------------\u001b[0m",
      "\u001b[0;31mKeyError\u001b[0m                                  Traceback (most recent call last)",
      "\u001b[0;32m/usr/local/lib/python3.7/site-packages/pandas/core/indexes/base.py\u001b[0m in \u001b[0;36mget_loc\u001b[0;34m(self, key, method, tolerance)\u001b[0m\n\u001b[1;32m   2889\u001b[0m             \u001b[0;32mtry\u001b[0m\u001b[0;34m:\u001b[0m\u001b[0;34m\u001b[0m\u001b[0;34m\u001b[0m\u001b[0m\n\u001b[0;32m-> 2890\u001b[0;31m                 \u001b[0;32mreturn\u001b[0m \u001b[0mself\u001b[0m\u001b[0;34m.\u001b[0m\u001b[0m_engine\u001b[0m\u001b[0;34m.\u001b[0m\u001b[0mget_loc\u001b[0m\u001b[0;34m(\u001b[0m\u001b[0mkey\u001b[0m\u001b[0;34m)\u001b[0m\u001b[0;34m\u001b[0m\u001b[0;34m\u001b[0m\u001b[0m\n\u001b[0m\u001b[1;32m   2891\u001b[0m             \u001b[0;32mexcept\u001b[0m \u001b[0mKeyError\u001b[0m\u001b[0;34m:\u001b[0m\u001b[0;34m\u001b[0m\u001b[0;34m\u001b[0m\u001b[0m\n",
      "\u001b[0;32mpandas/_libs/index.pyx\u001b[0m in \u001b[0;36mpandas._libs.index.IndexEngine.get_loc\u001b[0;34m()\u001b[0m\n",
      "\u001b[0;32mpandas/_libs/index.pyx\u001b[0m in \u001b[0;36mpandas._libs.index.IndexEngine.get_loc\u001b[0;34m()\u001b[0m\n",
      "\u001b[0;32mpandas/_libs/hashtable_class_helper.pxi\u001b[0m in \u001b[0;36mpandas._libs.hashtable.PyObjectHashTable.get_item\u001b[0;34m()\u001b[0m\n",
      "\u001b[0;32mpandas/_libs/hashtable_class_helper.pxi\u001b[0m in \u001b[0;36mpandas._libs.hashtable.PyObjectHashTable.get_item\u001b[0;34m()\u001b[0m\n",
      "\u001b[0;31mKeyError\u001b[0m: 'RawFid'",
      "\nDuring handling of the above exception, another exception occurred:\n",
      "\u001b[0;31mKeyError\u001b[0m                                  Traceback (most recent call last)",
      "\u001b[0;32m<ipython-input-33-4b0d9e4af829>\u001b[0m in \u001b[0;36m<module>\u001b[0;34m\u001b[0m\n\u001b[1;32m      1\u001b[0m \u001b[0;31m# df_med_fids['RawFid'] = \"\"\u001b[0m\u001b[0;34m\u001b[0m\u001b[0;34m\u001b[0m\u001b[0;34m\u001b[0m\u001b[0m\n\u001b[0;32m----> 2\u001b[0;31m \u001b[0mdf_med_fids\u001b[0m\u001b[0;34m.\u001b[0m\u001b[0mloc\u001b[0m\u001b[0;34m[\u001b[0m\u001b[0;34m:\u001b[0m\u001b[0;34m,\u001b[0m\u001b[0;34m\"RawFid\"\u001b[0m\u001b[0;34m]\u001b[0m\u001b[0;34m.\u001b[0m\u001b[0mastype\u001b[0m\u001b[0;34m(\u001b[0m\u001b[0mobject\u001b[0m\u001b[0;34m,\u001b[0m\u001b[0mcopy\u001b[0m\u001b[0;34m=\u001b[0m\u001b[0;32mFalse\u001b[0m\u001b[0;34m)\u001b[0m\u001b[0;34m\u001b[0m\u001b[0;34m\u001b[0m\u001b[0m\n\u001b[0m\u001b[1;32m      3\u001b[0m \u001b[0;31m# print(df_med_fids)\u001b[0m\u001b[0;34m\u001b[0m\u001b[0;34m\u001b[0m\u001b[0;34m\u001b[0m\u001b[0m\n",
      "\u001b[0;32m/usr/local/lib/python3.7/site-packages/pandas/core/indexing.py\u001b[0m in \u001b[0;36m__getitem__\u001b[0;34m(self, key)\u001b[0m\n\u001b[1;32m   1402\u001b[0m                 \u001b[0;32mexcept\u001b[0m \u001b[0;34m(\u001b[0m\u001b[0mKeyError\u001b[0m\u001b[0;34m,\u001b[0m \u001b[0mIndexError\u001b[0m\u001b[0;34m,\u001b[0m \u001b[0mAttributeError\u001b[0m\u001b[0;34m)\u001b[0m\u001b[0;34m:\u001b[0m\u001b[0;34m\u001b[0m\u001b[0;34m\u001b[0m\u001b[0m\n\u001b[1;32m   1403\u001b[0m                     \u001b[0;32mpass\u001b[0m\u001b[0;34m\u001b[0m\u001b[0;34m\u001b[0m\u001b[0m\n\u001b[0;32m-> 1404\u001b[0;31m             \u001b[0;32mreturn\u001b[0m \u001b[0mself\u001b[0m\u001b[0;34m.\u001b[0m\u001b[0m_getitem_tuple\u001b[0m\u001b[0;34m(\u001b[0m\u001b[0mkey\u001b[0m\u001b[0;34m)\u001b[0m\u001b[0;34m\u001b[0m\u001b[0;34m\u001b[0m\u001b[0m\n\u001b[0m\u001b[1;32m   1405\u001b[0m         \u001b[0;32melse\u001b[0m\u001b[0;34m:\u001b[0m\u001b[0;34m\u001b[0m\u001b[0;34m\u001b[0m\u001b[0m\n\u001b[1;32m   1406\u001b[0m             \u001b[0;31m# we by definition only have the 0th axis\u001b[0m\u001b[0;34m\u001b[0m\u001b[0;34m\u001b[0m\u001b[0;34m\u001b[0m\u001b[0m\n",
      "\u001b[0;32m/usr/local/lib/python3.7/site-packages/pandas/core/indexing.py\u001b[0m in \u001b[0;36m_getitem_tuple\u001b[0;34m(self, tup)\u001b[0m\n\u001b[1;32m    789\u001b[0m     \u001b[0;32mdef\u001b[0m \u001b[0m_getitem_tuple\u001b[0m\u001b[0;34m(\u001b[0m\u001b[0mself\u001b[0m\u001b[0;34m,\u001b[0m \u001b[0mtup\u001b[0m\u001b[0;34m)\u001b[0m\u001b[0;34m:\u001b[0m\u001b[0;34m\u001b[0m\u001b[0;34m\u001b[0m\u001b[0m\n\u001b[1;32m    790\u001b[0m         \u001b[0;32mtry\u001b[0m\u001b[0;34m:\u001b[0m\u001b[0;34m\u001b[0m\u001b[0;34m\u001b[0m\u001b[0m\n\u001b[0;32m--> 791\u001b[0;31m             \u001b[0;32mreturn\u001b[0m \u001b[0mself\u001b[0m\u001b[0;34m.\u001b[0m\u001b[0m_getitem_lowerdim\u001b[0m\u001b[0;34m(\u001b[0m\u001b[0mtup\u001b[0m\u001b[0;34m)\u001b[0m\u001b[0;34m\u001b[0m\u001b[0;34m\u001b[0m\u001b[0m\n\u001b[0m\u001b[1;32m    792\u001b[0m         \u001b[0;32mexcept\u001b[0m \u001b[0mIndexingError\u001b[0m\u001b[0;34m:\u001b[0m\u001b[0;34m\u001b[0m\u001b[0;34m\u001b[0m\u001b[0m\n\u001b[1;32m    793\u001b[0m             \u001b[0;32mpass\u001b[0m\u001b[0;34m\u001b[0m\u001b[0;34m\u001b[0m\u001b[0m\n",
      "\u001b[0;32m/usr/local/lib/python3.7/site-packages/pandas/core/indexing.py\u001b[0m in \u001b[0;36m_getitem_lowerdim\u001b[0;34m(self, tup)\u001b[0m\n\u001b[1;32m    913\u001b[0m         \u001b[0;32mfor\u001b[0m \u001b[0mi\u001b[0m\u001b[0;34m,\u001b[0m \u001b[0mkey\u001b[0m \u001b[0;32min\u001b[0m \u001b[0menumerate\u001b[0m\u001b[0;34m(\u001b[0m\u001b[0mtup\u001b[0m\u001b[0;34m)\u001b[0m\u001b[0;34m:\u001b[0m\u001b[0;34m\u001b[0m\u001b[0;34m\u001b[0m\u001b[0m\n\u001b[1;32m    914\u001b[0m             \u001b[0;32mif\u001b[0m \u001b[0mis_label_like\u001b[0m\u001b[0;34m(\u001b[0m\u001b[0mkey\u001b[0m\u001b[0;34m)\u001b[0m \u001b[0;32mor\u001b[0m \u001b[0misinstance\u001b[0m\u001b[0;34m(\u001b[0m\u001b[0mkey\u001b[0m\u001b[0;34m,\u001b[0m \u001b[0mtuple\u001b[0m\u001b[0;34m)\u001b[0m\u001b[0;34m:\u001b[0m\u001b[0;34m\u001b[0m\u001b[0;34m\u001b[0m\u001b[0m\n\u001b[0;32m--> 915\u001b[0;31m                 \u001b[0msection\u001b[0m \u001b[0;34m=\u001b[0m \u001b[0mself\u001b[0m\u001b[0;34m.\u001b[0m\u001b[0m_getitem_axis\u001b[0m\u001b[0;34m(\u001b[0m\u001b[0mkey\u001b[0m\u001b[0;34m,\u001b[0m \u001b[0maxis\u001b[0m\u001b[0;34m=\u001b[0m\u001b[0mi\u001b[0m\u001b[0;34m)\u001b[0m\u001b[0;34m\u001b[0m\u001b[0;34m\u001b[0m\u001b[0m\n\u001b[0m\u001b[1;32m    916\u001b[0m \u001b[0;34m\u001b[0m\u001b[0m\n\u001b[1;32m    917\u001b[0m                 \u001b[0;31m# we have yielded a scalar ?\u001b[0m\u001b[0;34m\u001b[0m\u001b[0;34m\u001b[0m\u001b[0;34m\u001b[0m\u001b[0m\n",
      "\u001b[0;32m/usr/local/lib/python3.7/site-packages/pandas/core/indexing.py\u001b[0m in \u001b[0;36m_getitem_axis\u001b[0;34m(self, key, axis)\u001b[0m\n\u001b[1;32m   1823\u001b[0m         \u001b[0;31m# fall thru to straight lookup\u001b[0m\u001b[0;34m\u001b[0m\u001b[0;34m\u001b[0m\u001b[0;34m\u001b[0m\u001b[0m\n\u001b[1;32m   1824\u001b[0m         \u001b[0mself\u001b[0m\u001b[0;34m.\u001b[0m\u001b[0m_validate_key\u001b[0m\u001b[0;34m(\u001b[0m\u001b[0mkey\u001b[0m\u001b[0;34m,\u001b[0m \u001b[0maxis\u001b[0m\u001b[0;34m)\u001b[0m\u001b[0;34m\u001b[0m\u001b[0;34m\u001b[0m\u001b[0m\n\u001b[0;32m-> 1825\u001b[0;31m         \u001b[0;32mreturn\u001b[0m \u001b[0mself\u001b[0m\u001b[0;34m.\u001b[0m\u001b[0m_get_label\u001b[0m\u001b[0;34m(\u001b[0m\u001b[0mkey\u001b[0m\u001b[0;34m,\u001b[0m \u001b[0maxis\u001b[0m\u001b[0;34m=\u001b[0m\u001b[0maxis\u001b[0m\u001b[0;34m)\u001b[0m\u001b[0;34m\u001b[0m\u001b[0;34m\u001b[0m\u001b[0m\n\u001b[0m\u001b[1;32m   1826\u001b[0m \u001b[0;34m\u001b[0m\u001b[0m\n\u001b[1;32m   1827\u001b[0m \u001b[0;34m\u001b[0m\u001b[0m\n",
      "\u001b[0;32m/usr/local/lib/python3.7/site-packages/pandas/core/indexing.py\u001b[0m in \u001b[0;36m_get_label\u001b[0;34m(self, label, axis)\u001b[0m\n\u001b[1;32m    155\u001b[0m             \u001b[0;32mraise\u001b[0m \u001b[0mIndexingError\u001b[0m\u001b[0;34m(\u001b[0m\u001b[0;34m\"no slices here, handle elsewhere\"\u001b[0m\u001b[0;34m)\u001b[0m\u001b[0;34m\u001b[0m\u001b[0;34m\u001b[0m\u001b[0m\n\u001b[1;32m    156\u001b[0m \u001b[0;34m\u001b[0m\u001b[0m\n\u001b[0;32m--> 157\u001b[0;31m         \u001b[0;32mreturn\u001b[0m \u001b[0mself\u001b[0m\u001b[0;34m.\u001b[0m\u001b[0mobj\u001b[0m\u001b[0;34m.\u001b[0m\u001b[0m_xs\u001b[0m\u001b[0;34m(\u001b[0m\u001b[0mlabel\u001b[0m\u001b[0;34m,\u001b[0m \u001b[0maxis\u001b[0m\u001b[0;34m=\u001b[0m\u001b[0maxis\u001b[0m\u001b[0;34m)\u001b[0m\u001b[0;34m\u001b[0m\u001b[0;34m\u001b[0m\u001b[0m\n\u001b[0m\u001b[1;32m    158\u001b[0m \u001b[0;34m\u001b[0m\u001b[0m\n\u001b[1;32m    159\u001b[0m     \u001b[0;32mdef\u001b[0m \u001b[0m_get_loc\u001b[0m\u001b[0;34m(\u001b[0m\u001b[0mself\u001b[0m\u001b[0;34m,\u001b[0m \u001b[0mkey\u001b[0m\u001b[0;34m:\u001b[0m \u001b[0mint\u001b[0m\u001b[0;34m,\u001b[0m \u001b[0maxis\u001b[0m\u001b[0;34m:\u001b[0m \u001b[0mint\u001b[0m\u001b[0;34m)\u001b[0m\u001b[0;34m:\u001b[0m\u001b[0;34m\u001b[0m\u001b[0;34m\u001b[0m\u001b[0m\n",
      "\u001b[0;32m/usr/local/lib/python3.7/site-packages/pandas/core/generic.py\u001b[0m in \u001b[0;36mxs\u001b[0;34m(self, key, axis, level, drop_level)\u001b[0m\n\u001b[1;32m   3728\u001b[0m \u001b[0;34m\u001b[0m\u001b[0m\n\u001b[1;32m   3729\u001b[0m         \u001b[0;32mif\u001b[0m \u001b[0maxis\u001b[0m \u001b[0;34m==\u001b[0m \u001b[0;36m1\u001b[0m\u001b[0;34m:\u001b[0m\u001b[0;34m\u001b[0m\u001b[0;34m\u001b[0m\u001b[0m\n\u001b[0;32m-> 3730\u001b[0;31m             \u001b[0;32mreturn\u001b[0m \u001b[0mself\u001b[0m\u001b[0;34m[\u001b[0m\u001b[0mkey\u001b[0m\u001b[0;34m]\u001b[0m\u001b[0;34m\u001b[0m\u001b[0;34m\u001b[0m\u001b[0m\n\u001b[0m\u001b[1;32m   3731\u001b[0m \u001b[0;34m\u001b[0m\u001b[0m\n\u001b[1;32m   3732\u001b[0m         \u001b[0mself\u001b[0m\u001b[0;34m.\u001b[0m\u001b[0m_consolidate_inplace\u001b[0m\u001b[0;34m(\u001b[0m\u001b[0;34m)\u001b[0m\u001b[0;34m\u001b[0m\u001b[0;34m\u001b[0m\u001b[0m\n",
      "\u001b[0;32m/usr/local/lib/python3.7/site-packages/pandas/core/frame.py\u001b[0m in \u001b[0;36m__getitem__\u001b[0;34m(self, key)\u001b[0m\n\u001b[1;32m   2973\u001b[0m             \u001b[0;32mif\u001b[0m \u001b[0mself\u001b[0m\u001b[0;34m.\u001b[0m\u001b[0mcolumns\u001b[0m\u001b[0;34m.\u001b[0m\u001b[0mnlevels\u001b[0m \u001b[0;34m>\u001b[0m \u001b[0;36m1\u001b[0m\u001b[0;34m:\u001b[0m\u001b[0;34m\u001b[0m\u001b[0;34m\u001b[0m\u001b[0m\n\u001b[1;32m   2974\u001b[0m                 \u001b[0;32mreturn\u001b[0m \u001b[0mself\u001b[0m\u001b[0;34m.\u001b[0m\u001b[0m_getitem_multilevel\u001b[0m\u001b[0;34m(\u001b[0m\u001b[0mkey\u001b[0m\u001b[0;34m)\u001b[0m\u001b[0;34m\u001b[0m\u001b[0;34m\u001b[0m\u001b[0m\n\u001b[0;32m-> 2975\u001b[0;31m             \u001b[0mindexer\u001b[0m \u001b[0;34m=\u001b[0m \u001b[0mself\u001b[0m\u001b[0;34m.\u001b[0m\u001b[0mcolumns\u001b[0m\u001b[0;34m.\u001b[0m\u001b[0mget_loc\u001b[0m\u001b[0;34m(\u001b[0m\u001b[0mkey\u001b[0m\u001b[0;34m)\u001b[0m\u001b[0;34m\u001b[0m\u001b[0;34m\u001b[0m\u001b[0m\n\u001b[0m\u001b[1;32m   2976\u001b[0m             \u001b[0;32mif\u001b[0m \u001b[0mis_integer\u001b[0m\u001b[0;34m(\u001b[0m\u001b[0mindexer\u001b[0m\u001b[0;34m)\u001b[0m\u001b[0;34m:\u001b[0m\u001b[0;34m\u001b[0m\u001b[0;34m\u001b[0m\u001b[0m\n\u001b[1;32m   2977\u001b[0m                 \u001b[0mindexer\u001b[0m \u001b[0;34m=\u001b[0m \u001b[0;34m[\u001b[0m\u001b[0mindexer\u001b[0m\u001b[0;34m]\u001b[0m\u001b[0;34m\u001b[0m\u001b[0;34m\u001b[0m\u001b[0m\n",
      "\u001b[0;32m/usr/local/lib/python3.7/site-packages/pandas/core/indexes/base.py\u001b[0m in \u001b[0;36mget_loc\u001b[0;34m(self, key, method, tolerance)\u001b[0m\n\u001b[1;32m   2890\u001b[0m                 \u001b[0;32mreturn\u001b[0m \u001b[0mself\u001b[0m\u001b[0;34m.\u001b[0m\u001b[0m_engine\u001b[0m\u001b[0;34m.\u001b[0m\u001b[0mget_loc\u001b[0m\u001b[0;34m(\u001b[0m\u001b[0mkey\u001b[0m\u001b[0;34m)\u001b[0m\u001b[0;34m\u001b[0m\u001b[0;34m\u001b[0m\u001b[0m\n\u001b[1;32m   2891\u001b[0m             \u001b[0;32mexcept\u001b[0m \u001b[0mKeyError\u001b[0m\u001b[0;34m:\u001b[0m\u001b[0;34m\u001b[0m\u001b[0;34m\u001b[0m\u001b[0m\n\u001b[0;32m-> 2892\u001b[0;31m                 \u001b[0;32mreturn\u001b[0m \u001b[0mself\u001b[0m\u001b[0;34m.\u001b[0m\u001b[0m_engine\u001b[0m\u001b[0;34m.\u001b[0m\u001b[0mget_loc\u001b[0m\u001b[0;34m(\u001b[0m\u001b[0mself\u001b[0m\u001b[0;34m.\u001b[0m\u001b[0m_maybe_cast_indexer\u001b[0m\u001b[0;34m(\u001b[0m\u001b[0mkey\u001b[0m\u001b[0;34m)\u001b[0m\u001b[0;34m)\u001b[0m\u001b[0;34m\u001b[0m\u001b[0;34m\u001b[0m\u001b[0m\n\u001b[0m\u001b[1;32m   2893\u001b[0m         \u001b[0mindexer\u001b[0m \u001b[0;34m=\u001b[0m \u001b[0mself\u001b[0m\u001b[0;34m.\u001b[0m\u001b[0mget_indexer\u001b[0m\u001b[0;34m(\u001b[0m\u001b[0;34m[\u001b[0m\u001b[0mkey\u001b[0m\u001b[0;34m]\u001b[0m\u001b[0;34m,\u001b[0m \u001b[0mmethod\u001b[0m\u001b[0;34m=\u001b[0m\u001b[0mmethod\u001b[0m\u001b[0;34m,\u001b[0m \u001b[0mtolerance\u001b[0m\u001b[0;34m=\u001b[0m\u001b[0mtolerance\u001b[0m\u001b[0;34m)\u001b[0m\u001b[0;34m\u001b[0m\u001b[0;34m\u001b[0m\u001b[0m\n\u001b[1;32m   2894\u001b[0m         \u001b[0;32mif\u001b[0m \u001b[0mindexer\u001b[0m\u001b[0;34m.\u001b[0m\u001b[0mndim\u001b[0m \u001b[0;34m>\u001b[0m \u001b[0;36m1\u001b[0m \u001b[0;32mor\u001b[0m \u001b[0mindexer\u001b[0m\u001b[0;34m.\u001b[0m\u001b[0msize\u001b[0m \u001b[0;34m>\u001b[0m \u001b[0;36m1\u001b[0m\u001b[0;34m:\u001b[0m\u001b[0;34m\u001b[0m\u001b[0;34m\u001b[0m\u001b[0m\n",
      "\u001b[0;32mpandas/_libs/index.pyx\u001b[0m in \u001b[0;36mpandas._libs.index.IndexEngine.get_loc\u001b[0;34m()\u001b[0m\n",
      "\u001b[0;32mpandas/_libs/index.pyx\u001b[0m in \u001b[0;36mpandas._libs.index.IndexEngine.get_loc\u001b[0;34m()\u001b[0m\n",
      "\u001b[0;32mpandas/_libs/hashtable_class_helper.pxi\u001b[0m in \u001b[0;36mpandas._libs.hashtable.PyObjectHashTable.get_item\u001b[0;34m()\u001b[0m\n",
      "\u001b[0;32mpandas/_libs/hashtable_class_helper.pxi\u001b[0m in \u001b[0;36mpandas._libs.hashtable.PyObjectHashTable.get_item\u001b[0;34m()\u001b[0m\n",
      "\u001b[0;31mKeyError\u001b[0m: 'RawFid'"
     ]
    }
   ],
   "source": [
    "# df_med_fids['RawFid'] = \"\"\n",
    "df_med_fids.loc[:,\"RawFid\"].astype(object,copy=False)\n",
    "# print(df_med_fids)"
   ]
  },
  {
   "cell_type": "code",
   "execution_count": null,
   "metadata": {},
   "outputs": [],
   "source": [
    "probe = 0\n",
    "run = 3956\n",
    "for reading in med_event_list:\n",
    "    raw_fid = np.empty(16000)\n",
    "    ROOT.RawFid(raw_fid,run,reading,probe)\n",
    "    df_med_fids.at[reading, 'RawFid'] = raw_fid"
   ]
  },
  {
   "cell_type": "code",
   "execution_count": null,
   "metadata": {},
   "outputs": [],
   "source": [
    "df_med_fids"
   ]
  },
  {
   "cell_type": "markdown",
   "metadata": {},
   "source": [
    "## Second, medium-length FIDS"
   ]
  },
  {
   "cell_type": "code",
   "execution_count": null,
   "metadata": {},
   "outputs": [],
   "source": [
    "df_long_fids = df[ (fid_len > 0.00879) & (fid_len < 0.0088) ]\n",
    "df_long_fids.hist(column='FID_len',bins=300)\n",
    "long_event_list = df_long_fids.index.tolist()\n",
    "print(long_event_list)"
   ]
  },
  {
   "cell_type": "code",
   "execution_count": null,
   "metadata": {},
   "outputs": [],
   "source": [
    "df_long_fids['RawFid'] = \"\"\n",
    "df_long_fids['RawFid'].astype(object,copy=False)\n",
    "print(df_long_fids)"
   ]
  },
  {
   "cell_type": "code",
   "execution_count": null,
   "metadata": {},
   "outputs": [],
   "source": [
    "probe = 0\n",
    "run = 3956\n",
    "for reading in long_event_list:\n",
    "    raw_fid = np.empty(16000)\n",
    "    ROOT.RawFid(raw_fid,run,reading,probe)\n",
    "    df_long_fids.at[reading, 'RawFid'] = raw_fid\n",
    "print(df_long_fids)"
   ]
  },
  {
   "cell_type": "markdown",
   "metadata": {},
   "source": [
    "## short FIDs, and very short FIDs"
   ]
  },
  {
   "cell_type": "code",
   "execution_count": null,
   "metadata": {},
   "outputs": [],
   "source": [
    "df_short_fids = df[ (fid_len > 0.0039) & (fid_len < 0.004) ]\n",
    "df_short_fids.hist(column='FID_len',bins=300)\n",
    "short_event_list = df_short_fids.index.tolist()\n",
    "print(short_event_list)\n",
    "df_short_fids['RawFid'] = \"\"\n",
    "df_short_fids['RawFid'].astype(object,copy=False)\n",
    "print(df_short_fids)\n",
    "probe = 0\n",
    "run = 3956\n",
    "for reading in short_event_list:\n",
    "    raw_fid = np.empty(16000)\n",
    "    ROOT.RawFid(raw_fid,run,reading,probe)\n",
    "    df_short_fids.at[reading, 'RawFid'] = raw_fid\n",
    "print(df_short_fids)"
   ]
  },
  {
   "cell_type": "code",
   "execution_count": null,
   "metadata": {},
   "outputs": [],
   "source": [
    "df_vshort_fids = df[ (fid_len > 0.001) & (fid_len < 0.002) ]\n",
    "df_vshort_fids.hist(column='FID_len',bins=300)\n",
    "vshort_event_list = df_vshort_fids.index.tolist()\n",
    "# print(vshort_event_list)\n",
    "df_vshort_fids['RawFid'] = \"\"\n",
    "df_vshort_fids['RawFid'].astype(object,copy=False)\n",
    "# print(df_vshort_fids)\n",
    "probe = 0\n",
    "run = 3956\n",
    "for reading in vshort_event_list:\n",
    "    raw_fid = np.empty(16000)\n",
    "    ROOT.RawFid(raw_fid,run,reading,probe)\n",
    "    df_vshort_fids.at[reading, 'RawFid'] = raw_fid\n",
    "# print(df_vshort_fids)"
   ]
  },
  {
   "cell_type": "markdown",
   "metadata": {},
   "source": [
    "## Compare random FIDs from the four groups"
   ]
  },
  {
   "cell_type": "code",
   "execution_count": null,
   "metadata": {},
   "outputs": [],
   "source": [
    "plt.plot(df_long_fids.loc[1963,\"RawFid\"], 'o', color='green',alpha=0.01);\n",
    "plt.plot(df_med_fids.loc[1004,\"RawFid\"], 'o', color='yellow',alpha=0.01);\n",
    "plt.plot(df_short_fids.loc[6130,\"RawFid\"], 'o', color='red', alpha=0.01);\n",
    "plt.plot(df_vshort_fids.loc[5528,\"RawFid\"], 'o', color='black', alpha=0.01 );"
   ]
  },
  {
   "cell_type": "markdown",
   "metadata": {},
   "source": [
    "# Look at FID length vs event number"
   ]
  },
  {
   "cell_type": "code",
   "execution_count": null,
   "metadata": {},
   "outputs": [],
   "source": [
    "df[['FID_len']].plot()"
   ]
  },
  {
   "cell_type": "markdown",
   "metadata": {},
   "source": []
  }
 ],
 "metadata": {
  "kernelspec": {
   "display_name": "Python 3",
   "language": "python",
   "name": "python3"
  },
  "language_info": {
   "codemirror_mode": {
    "name": "ipython",
    "version": 3
   },
   "file_extension": ".py",
   "mimetype": "text/x-python",
   "name": "python",
   "nbconvert_exporter": "python",
   "pygments_lexer": "ipython3",
   "version": "3.7.3"
  }
 },
 "nbformat": 4,
 "nbformat_minor": 2
}
